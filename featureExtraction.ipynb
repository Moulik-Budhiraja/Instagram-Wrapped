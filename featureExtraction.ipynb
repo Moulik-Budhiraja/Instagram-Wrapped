{
 "cells": [
  {
   "cell_type": "markdown",
   "metadata": {},
   "source": [
    "# Feature Extraction\n",
    "\n",
    "A quick notebook to test and determine the fastest ways to extract features from the data."
   ]
  },
  {
   "cell_type": "code",
   "execution_count": 1,
   "metadata": {},
   "outputs": [],
   "source": [
    "from typing import *\n",
    "from messages import *\n",
    "from collections import Counter\n",
    "import os"
   ]
  },
  {
   "cell_type": "code",
   "execution_count": 2,
   "metadata": {},
   "outputs": [],
   "source": [
    "conversations: list[Conversation] = []\n",
    "\n",
    "for user in os.listdir(FILE_PATH):\n",
    "    conversation = Conversation(os.path.join(FILE_PATH, user))\n",
    "\n",
    "    conversations.append(conversation)\n",
    "\n"
   ]
  },
  {
   "cell_type": "code",
   "execution_count": 3,
   "metadata": {},
   "outputs": [],
   "source": [
    "direct = [conversation for conversation in conversations if len(conversation.participants) == 2 and conversation.title in conversation.participants]"
   ]
  },
  {
   "cell_type": "code",
   "execution_count": 5,
   "metadata": {},
   "outputs": [
    {
     "data": {
      "text/plain": [
       "User(\"Moulik Budhiraja\")"
      ]
     },
     "execution_count": 5,
     "metadata": {},
     "output_type": "execute_result"
    }
   ],
   "source": [
    "def predictUser(directMessages: list[Conversation]) -> User:\n",
    "    \"\"\"Attempts to determine who the 'main' user is\"\"\"\n",
    "    possibleUsers: list[User] = []\n",
    "\n",
    "    for conv in directMessages:\n",
    "        for name, user in conv.participants.items():\n",
    "            if name != conv.title:\n",
    "                possibleUsers.append(user)\n",
    "\n",
    "    return max(Counter(possibleUsers))\n",
    "\n",
    "predictUser(direct)"
   ]
  },
  {
   "cell_type": "code",
   "execution_count": null,
   "metadata": {},
   "outputs": [],
   "source": []
  }
 ],
 "metadata": {
  "kernelspec": {
   "display_name": "Python 3",
   "language": "python",
   "name": "python3"
  },
  "language_info": {
   "codemirror_mode": {
    "name": "ipython",
    "version": 3
   },
   "file_extension": ".py",
   "mimetype": "text/x-python",
   "name": "python",
   "nbconvert_exporter": "python",
   "pygments_lexer": "ipython3",
   "version": "3.12.1"
  }
 },
 "nbformat": 4,
 "nbformat_minor": 2
}
