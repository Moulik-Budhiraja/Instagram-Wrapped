{
 "cells": [
  {
   "cell_type": "markdown",
   "metadata": {},
   "source": [
    "# Feature Extraction\n",
    "\n",
    "A quick notebook to test and determine the fastest ways to extract features from the data."
   ]
  },
  {
   "cell_type": "code",
   "execution_count": 6,
   "metadata": {},
   "outputs": [],
   "source": [
    "from typing import *\n",
    "from messages import *\n",
    "from helpers import *\n",
    "from collections import Counter\n",
    "import os\n",
    "from datetime import datetime"
   ]
  },
  {
   "cell_type": "code",
   "execution_count": 7,
   "metadata": {},
   "outputs": [],
   "source": [
    "conversations: list[Conversation] = []\n",
    "\n",
    "for user in os.listdir(FILE_PATH):\n",
    "    conversation = Conversation(os.path.join(FILE_PATH, user))\n",
    "\n",
    "    conversations.append(conversation.messagesBetweenTime(datetime(2024, 1, 1).timestamp() * 1000, datetime(2025, 1, 1).timestamp() * 1000 - 1))\n",
    "\n"
   ]
  },
  {
   "cell_type": "code",
   "execution_count": 8,
   "metadata": {},
   "outputs": [],
   "source": [
    "direct = [conversation for conversation in conversations if len(conversation.participants) == 2 and conversation.title in conversation.participants]"
   ]
  },
  {
   "cell_type": "code",
   "execution_count": 9,
   "metadata": {},
   "outputs": [],
   "source": [
    "mainUser = predictUser(direct)"
   ]
  },
  {
   "cell_type": "markdown",
   "metadata": {},
   "source": [
    "## Defining Categories\n",
    "\n",
    "* Total Messages\n",
    "* Total Messages Sent\n",
    "* Messages Sent (top 5 people)\n",
    "* Total Messages Received\n",
    "* Messages Received (top 5 people)\n",
    "\n",
    "#### Note: Stats should be limited to DMs only."
   ]
  },
  {
   "cell_type": "code",
   "execution_count": 10,
   "metadata": {},
   "outputs": [
    {
     "data": {
      "text/plain": [
       "(17371, 7477, 9894)"
      ]
     },
     "execution_count": 10,
     "metadata": {},
     "output_type": "execute_result"
    }
   ],
   "source": [
    "totalMessages = 0\n",
    "totalMessagesSent = 0\n",
    "totalMessagesReceived = 0\n",
    "\n",
    "for conv in direct:\n",
    "    totalMessages += len(conv.messages)\n",
    "    totalMessagesSent += len(conv.messagesFrom(mainUser).messages)\n",
    "    totalMessagesReceived += len(conv.messages) - len(conv.messagesFrom(mainUser).messages)\n",
    "\n",
    "totalMessages, totalMessagesSent, totalMessagesReceived"
   ]
  }
 ],
 "metadata": {
  "kernelspec": {
   "display_name": "Python 3",
   "language": "python",
   "name": "python3"
  },
  "language_info": {
   "codemirror_mode": {
    "name": "ipython",
    "version": 3
   },
   "file_extension": ".py",
   "mimetype": "text/x-python",
   "name": "python",
   "nbconvert_exporter": "python",
   "pygments_lexer": "ipython3",
   "version": "3.12.1"
  }
 },
 "nbformat": 4,
 "nbformat_minor": 2
}
