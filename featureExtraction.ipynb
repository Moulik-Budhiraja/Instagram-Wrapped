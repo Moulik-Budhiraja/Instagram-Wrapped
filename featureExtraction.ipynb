{
 "cells": [
  {
   "cell_type": "markdown",
   "metadata": {},
   "source": [
    "# Feature Extraction\n",
    "\n",
    "A quick notebook to test and determine the fastest ways to extract features from the data."
   ]
  },
  {
   "cell_type": "code",
   "execution_count": 1,
   "metadata": {},
   "outputs": [],
   "source": [
    "from typing import *\n",
    "from messages import *\n",
    "from helpers import *\n",
    "from collections import Counter\n",
    "import os\n",
    "from datetime import datetime, timedelta\n",
    "import calendar\n",
    "import csv\n",
    "import re"
   ]
  },
  {
   "cell_type": "code",
   "execution_count": 2,
   "metadata": {},
   "outputs": [],
   "source": [
    "YEAR = 2024"
   ]
  },
  {
   "cell_type": "code",
   "execution_count": 3,
   "metadata": {},
   "outputs": [],
   "source": [
    "conversations: list[Conversation] = []\n",
    "\n",
    "for user in os.listdir(FILE_PATH):\n",
    "    conversation = Conversation(os.path.join(FILE_PATH, user))\n",
    "\n",
    "    conversations.append(conversation.messagesBetweenTime(datetime(YEAR, 1, 1).timestamp() * 1000, datetime(2025, 1, 1).timestamp() * 1000 - 1))\n",
    "\n"
   ]
  },
  {
   "cell_type": "code",
   "execution_count": 4,
   "metadata": {},
   "outputs": [],
   "source": [
    "direct = [conversation for conversation in conversations if len(conversation.participants) == 2 and conversation.title in conversation.participants]"
   ]
  },
  {
   "cell_type": "code",
   "execution_count": 5,
   "metadata": {},
   "outputs": [],
   "source": [
    "mainUser = predictUser(direct)"
   ]
  },
  {
   "cell_type": "markdown",
   "metadata": {},
   "source": [
    "# Defining Categories\n",
    "\n",
    "* Total Messages\n",
    "* Total Messages Sent\n",
    "* Messages Sent (top 5 people)\n",
    "* Total Messages Received\n",
    "* Messages Received (top 5 people)\n",
    "* Most active month\n",
    "\n",
    "#### Note: Stats should be limited to DMs only."
   ]
  },
  {
   "cell_type": "code",
   "execution_count": null,
   "metadata": {},
   "outputs": [],
   "source": [
    "totalMessages = 0\n",
    "totalMessagesSent = 0\n",
    "totalMessagesReceived = 0\n",
    "sentToCounts = Counter()\n",
    "receivedFromCounts = Counter()\n",
    "\n",
    "for conv in direct:\n",
    "    totalMessages += len(conv.messages)\n",
    "    totalMessagesSent += len(conv.messagesFrom(mainUser).messages)\n",
    "    totalMessagesReceived += len(conv.messages) - len(conv.messagesFrom(mainUser).messages)\n",
    "\n",
    "    otherUser = User(conv.title)\n",
    "    sentToCounts[otherUser] = len(conv.messagesFrom(mainUser).messages)\n",
    "    receivedFromCounts[otherUser] = len(conv.messagesFrom(otherUser).messages)\n",
    "\n",
    "\n",
    "totalMessages, totalMessagesSent, totalMessagesReceived\n",
    "\n",
    "receivedFromCounts.most_common(5)"
   ]
  },
  {
   "cell_type": "code",
   "execution_count": null,
   "metadata": {},
   "outputs": [],
   "source": [
    "monthCounts = Counter()\n",
    "\n",
    "for conv in direct:\n",
    "    for message in conv.messages:\n",
    "        monthCounts[datetime.fromtimestamp(message.timestamp / 1000).month] += 1\n",
    "\n",
    "monthCounts"
   ]
  },
  {
   "cell_type": "markdown",
   "metadata": {},
   "source": [
    "## Other Categories\n",
    "\n",
    "* Favorite Text \n",
    "* Favorite Emoji/Reaction\n",
    "* Downbad Hours (12-4am)\n",
    "* King of Slurs (most slurs used)\n",
    "* Most Ghosted"
   ]
  },
  {
   "cell_type": "code",
   "execution_count": null,
   "metadata": {},
   "outputs": [],
   "source": [
    "allMessages = Counter()\n",
    "\n",
    "for conv in direct:\n",
    "    for message in conv.messagesFrom(mainUser).messages:\n",
    "        if message.messageType == MessageType.TEXT and message.content.find(\"wasn't notified about this message because they're in quiet mode.\") == -1:\n",
    "            allMessages[message.content] += 1\n",
    "\n",
    "allMessages.pop('You sent an attachment.')\n",
    "\n",
    "allMessages.most_common(5) # Kinda boring"
   ]
  },
  {
   "cell_type": "code",
   "execution_count": null,
   "metadata": {},
   "outputs": [],
   "source": [
    "downbadMessages = Counter()\n",
    "\n",
    "for conv in direct:\n",
    "    for day in range(366 if calendar.isleap(YEAR) else 365):\n",
    "        # 1-4 each day\n",
    "        startTimestamp = (datetime(YEAR, 1, 1) + timedelta(day)).timestamp()\n",
    "        endTimeStamp = (datetime(YEAR, 1, 1, 4) + timedelta(day)).timestamp()\n",
    "\n",
    "        otherUser = User(conv.title)\n",
    "\n",
    "        downbadMessages[otherUser] += len(conv.messagesBetweenTime(startTimestamp * 1000, endTimeStamp * 1000).messages)\n",
    "\n",
    "downbadMessages.most_common(5)"
   ]
  },
  {
   "cell_type": "code",
   "execution_count": 9,
   "metadata": {},
   "outputs": [],
   "source": [
    "swearwords: list[str] = []\n",
    "\n",
    "with open(\"assets/swearwords.csv\") as f:\n",
    "    reader = csv.DictReader(f)\n",
    "\n",
    "    for row in reader:\n",
    "        if \"Mild\" in row[\"Level of offensiveness\"]:\n",
    "            continue\n",
    "\n",
    "        if \"word\" in row[\"Level of offensiveness\"]:\n",
    "            swearwords.append(row[\"Word\"].lower())\n"
   ]
  },
  {
   "cell_type": "code",
   "execution_count": null,
   "metadata": {},
   "outputs": [],
   "source": [
    "# Find the slur king\n",
    "slurs = Counter()\n",
    "\n",
    "for conv in direct:\n",
    "    otherUser = User(conv.title)\n",
    "    for message in conv.messagesFrom(otherUser).messages:\n",
    "        if message.messageType != MessageType.TEXT: continue\n",
    "\n",
    "        messageLower = message.content.lower()\n",
    "\n",
    "        for word in swearwords:\n",
    "            if re.search(rf\"\\b{word}\\b\", messageLower):\n",
    "                slurs[otherUser] += 1\n",
    "\n",
    "slurs.most_common(5)"
   ]
  },
  {
   "cell_type": "code",
   "execution_count": null,
   "metadata": {},
   "outputs": [],
   "source": [
    "# Times left on read\n",
    "\n",
    "leftOnRead = Counter()\n",
    "\n",
    "for conv in direct:\n",
    "    otherUser = User(conv.title)\n",
    "    for i, lastMessage in enumerate(conv.messages):\n",
    "        if i + 1 == len(conv.messages): break\n",
    "\n",
    "        currMessage = conv.messages[i + 1]\n",
    "\n",
    "        if currMessage.sender == mainUser and lastMessage.sender == otherUser and (currMessage.timestamp - lastMessage.timestamp) / 1000 > 60 * 60 * 24:\n",
    "            leftOnRead[otherUser] += 1\n",
    "\n",
    "leftOnRead.most_common(5)"
   ]
  },
  {
   "cell_type": "markdown",
   "metadata": {},
   "source": [
    "## AI Categories\n",
    "\n",
    "* Biggest Simp\n",
    "* Most Freaky\n",
    "* Most Favours (Fake Friends)\n",
    "* Biggest Hater\n",
    "* Most desperate (Could be non ai) "
   ]
  }
 ],
 "metadata": {
  "kernelspec": {
   "display_name": "Python 3",
   "language": "python",
   "name": "python3"
  },
  "language_info": {
   "codemirror_mode": {
    "name": "ipython",
    "version": 3
   },
   "file_extension": ".py",
   "mimetype": "text/x-python",
   "name": "python",
   "nbconvert_exporter": "python",
   "pygments_lexer": "ipython3",
   "version": "3.12.1"
  }
 },
 "nbformat": 4,
 "nbformat_minor": 2
}
