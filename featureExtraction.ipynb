{
 "cells": [
  {
   "cell_type": "markdown",
   "metadata": {},
   "source": [
    "# Feature Extraction\n",
    "\n",
    "A quick notebook to test and determine the fastest ways to extract features from the data."
   ]
  },
  {
   "cell_type": "code",
   "execution_count": 10,
   "metadata": {},
   "outputs": [],
   "source": [
    "from typing import *\n",
    "from messages import *\n",
    "from helpers import *\n",
    "from collections import Counter\n",
    "import os\n",
    "from datetime import datetime, timedelta\n",
    "import calendar"
   ]
  },
  {
   "cell_type": "code",
   "execution_count": 11,
   "metadata": {},
   "outputs": [],
   "source": [
    "YEAR = 2024"
   ]
  },
  {
   "cell_type": "code",
   "execution_count": 12,
   "metadata": {},
   "outputs": [],
   "source": [
    "conversations: list[Conversation] = []\n",
    "\n",
    "for user in os.listdir(FILE_PATH):\n",
    "    conversation = Conversation(os.path.join(FILE_PATH, user))\n",
    "\n",
    "    conversations.append(conversation.messagesBetweenTime(datetime(YEAR, 1, 1).timestamp() * 1000, datetime(2025, 1, 1).timestamp() * 1000 - 1))\n",
    "\n"
   ]
  },
  {
   "cell_type": "code",
   "execution_count": 13,
   "metadata": {},
   "outputs": [],
   "source": [
    "direct = [conversation for conversation in conversations if len(conversation.participants) == 2 and conversation.title in conversation.participants]"
   ]
  },
  {
   "cell_type": "code",
   "execution_count": 14,
   "metadata": {},
   "outputs": [],
   "source": [
    "mainUser = predictUser(direct)"
   ]
  },
  {
   "cell_type": "markdown",
   "metadata": {},
   "source": [
    "# Defining Categories\n",
    "\n",
    "* Total Messages\n",
    "* Total Messages Sent\n",
    "* Messages Sent (top 5 people)\n",
    "* Total Messages Received\n",
    "* Messages Received (top 5 people)\n",
    "\n",
    "#### Note: Stats should be limited to DMs only."
   ]
  },
  {
   "cell_type": "code",
   "execution_count": 15,
   "metadata": {},
   "outputs": [
    {
     "data": {
      "text/plain": [
       "[(User(\"Hooman\"), 2259),\n",
       " (User(\"katelynð·\"), 2146),\n",
       " (User(\"Neha Kasoju\"), 1619),\n",
       " (User(\"Liam McNamara\"), 768),\n",
       " (User(\"Josh Choong\"), 482)]"
      ]
     },
     "execution_count": 15,
     "metadata": {},
     "output_type": "execute_result"
    }
   ],
   "source": [
    "totalMessages = 0\n",
    "totalMessagesSent = 0\n",
    "totalMessagesReceived = 0\n",
    "sentToCounts = Counter()\n",
    "receivedFromCounts = Counter()\n",
    "\n",
    "for conv in direct:\n",
    "    totalMessages += len(conv.messages)\n",
    "    totalMessagesSent += len(conv.messagesFrom(mainUser).messages)\n",
    "    totalMessagesReceived += len(conv.messages) - len(conv.messagesFrom(mainUser).messages)\n",
    "\n",
    "    otherUser = User(conv.title)\n",
    "    sentToCounts[otherUser] = len(conv.messagesFrom(mainUser).messages)\n",
    "    receivedFromCounts[otherUser] = len(conv.messagesFrom(otherUser).messages)\n",
    "\n",
    "\n",
    "totalMessages, totalMessagesSent, totalMessagesReceived\n",
    "\n",
    "receivedFromCounts.most_common(5)"
   ]
  },
  {
   "cell_type": "markdown",
   "metadata": {},
   "source": [
    "## Other Categories\n",
    "\n",
    "* Favorite Text \n",
    "* Favorite Emoji/Reaction\n",
    "* Downbad Hours (12-4am)\n",
    "* King of Slurs (most slurs used)"
   ]
  },
  {
   "cell_type": "code",
   "execution_count": 16,
   "metadata": {},
   "outputs": [
    {
     "data": {
      "text/plain": [
       "[('ð\\x9f\\x98\\xadð\\x9f\\x98\\xad', 161),\n",
       " ('ð\\x9f\\x92\\x80ð\\x9f\\x92\\x80', 130),\n",
       " ('Yea', 55),\n",
       " ('Yeah', 38),\n",
       " ('Ah okok', 23)]"
      ]
     },
     "execution_count": 16,
     "metadata": {},
     "output_type": "execute_result"
    }
   ],
   "source": [
    "allMessages = Counter()\n",
    "\n",
    "for conv in conversations:\n",
    "    for message in conv.messagesFrom(mainUser).messages:\n",
    "        if message.messageType == MessageType.TEXT and message.content.find(\"wasn't notified about this message because they're in quiet mode.\") == -1:\n",
    "            allMessages[message.content] += 1\n",
    "\n",
    "allMessages.pop('You sent an attachment.')\n",
    "\n",
    "allMessages.most_common(5) # Kinda boring"
   ]
  },
  {
   "cell_type": "code",
   "execution_count": 17,
   "metadata": {},
   "outputs": [
    {
     "ename": "TypeError",
     "evalue": "unsupported operand type(s) for +=: 'int' and 'Conversation'",
     "output_type": "error",
     "traceback": [
      "\u001b[1;31m---------------------------------------------------------------------------\u001b[0m",
      "\u001b[1;31mTypeError\u001b[0m                                 Traceback (most recent call last)",
      "Cell \u001b[1;32mIn[17], line 11\u001b[0m\n\u001b[0;32m      7\u001b[0m         endTimeStamp \u001b[38;5;241m=\u001b[39m (datetime(YEAR, \u001b[38;5;241m1\u001b[39m, \u001b[38;5;241m1\u001b[39m, \u001b[38;5;241m4\u001b[39m) \u001b[38;5;241m+\u001b[39m timedelta(day))\u001b[38;5;241m.\u001b[39mtimestamp()\n\u001b[0;32m      9\u001b[0m         otherUser \u001b[38;5;241m=\u001b[39m User(conv\u001b[38;5;241m.\u001b[39mtitle)\n\u001b[1;32m---> 11\u001b[0m         \u001b[43mdownbadMessages\u001b[49m\u001b[43m[\u001b[49m\u001b[43motherUser\u001b[49m\u001b[43m]\u001b[49m\u001b[43m \u001b[49m\u001b[38;5;241;43m+\u001b[39;49m\u001b[38;5;241;43m=\u001b[39;49m\u001b[43m \u001b[49m\u001b[43mconv\u001b[49m\u001b[38;5;241;43m.\u001b[39;49m\u001b[43mmessagesBetweenTime\u001b[49m\u001b[43m(\u001b[49m\u001b[43mstartTimestamp\u001b[49m\u001b[43m \u001b[49m\u001b[38;5;241;43m*\u001b[39;49m\u001b[43m \u001b[49m\u001b[38;5;241;43m1000\u001b[39;49m\u001b[43m,\u001b[49m\u001b[43m \u001b[49m\u001b[43mendTimeStamp\u001b[49m\u001b[43m \u001b[49m\u001b[38;5;241;43m*\u001b[39;49m\u001b[43m \u001b[49m\u001b[38;5;241;43m1000\u001b[39;49m\u001b[43m)\u001b[49m\n\u001b[0;32m     13\u001b[0m downbadMessages\u001b[38;5;241m.\u001b[39mmost_common(\u001b[38;5;241m5\u001b[39m)\n",
      "\u001b[1;31mTypeError\u001b[0m: unsupported operand type(s) for +=: 'int' and 'Conversation'"
     ]
    }
   ],
   "source": [
    "downbadMessages = Counter()\n",
    "\n",
    "for conv in direct:\n",
    "    for day in range(366 if calendar.isleap(YEAR) else 365):\n",
    "        # 1-4 each day\n",
    "        startTimestamp = (datetime(YEAR, 1, 1) + timedelta(day)).timestamp()\n",
    "        endTimeStamp = (datetime(YEAR, 1, 1, 4) + timedelta(day)).timestamp()\n",
    "\n",
    "        otherUser = User(conv.title)\n",
    "\n",
    "        downbadMessages[otherUser] += len(conv.messagesBetweenTime(startTimestamp * 1000, endTimeStamp * 1000).messages)\n",
    "\n",
    "downbadMessages.most_common(5)"
   ]
  },
  {
   "cell_type": "markdown",
   "metadata": {},
   "source": [
    "## AI Categories\n",
    "\n",
    "* Biggest Simp\n",
    "* Most Freaky\n",
    "* Most Favours (Fake Friends)\n",
    "* Biggest Hater\n",
    "* Most desperate (Could be non ai) "
   ]
  }
 ],
 "metadata": {
  "kernelspec": {
   "display_name": "Python 3",
   "language": "python",
   "name": "python3"
  },
  "language_info": {
   "codemirror_mode": {
    "name": "ipython",
    "version": 3
   },
   "file_extension": ".py",
   "mimetype": "text/x-python",
   "name": "python",
   "nbconvert_exporter": "python",
   "pygments_lexer": "ipython3",
   "version": "3.12.1"
  }
 },
 "nbformat": 4,
 "nbformat_minor": 2
}
