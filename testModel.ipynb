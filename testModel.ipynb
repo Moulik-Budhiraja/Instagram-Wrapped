{
 "cells": [
  {
   "cell_type": "code",
   "execution_count": 1,
   "id": "cada13b1-c76b-4f53-a99a-30a120ed09d2",
   "metadata": {
    "execution": {
     "iopub.execute_input": "2024-12-28T18:44:27.638708Z",
     "iopub.status.busy": "2024-12-28T18:44:27.638514Z",
     "iopub.status.idle": "2024-12-28T18:44:31.492432Z",
     "shell.execute_reply": "2024-12-28T18:44:31.491796Z",
     "shell.execute_reply.started": "2024-12-28T18:44:27.638693Z"
    }
   },
   "outputs": [
    {
     "name": "stderr",
     "output_type": "stream",
     "text": [
      "c:\\Users\\Daniel\\Desktop\\Projects\\Instagram-Wrapped\\.venv\\lib\\site-packages\\tqdm\\auto.py:21: TqdmWarning: IProgress not found. Please update jupyter and ipywidgets. See https://ipywidgets.readthedocs.io/en/stable/user_install.html\n",
      "  from .autonotebook import tqdm as notebook_tqdm\n"
     ]
    }
   ],
   "source": [
    "from transformers import BertTokenizer, BertForSequenceClassification, logging\n",
    "import torch"
   ]
  },
  {
   "cell_type": "code",
   "execution_count": 2,
   "id": "5ac2efac-aba6-46ab-b8fa-2044bd1e55aa",
   "metadata": {
    "execution": {
     "iopub.execute_input": "2024-12-28T18:46:22.971719Z",
     "iopub.status.busy": "2024-12-28T18:46:22.971008Z",
     "iopub.status.idle": "2024-12-28T18:46:23.039883Z",
     "shell.execute_reply": "2024-12-28T18:46:23.039452Z",
     "shell.execute_reply.started": "2024-12-28T18:46:22.971698Z"
    }
   },
   "outputs": [],
   "source": [
    "model = BertForSequenceClassification.from_pretrained(\"assets/model\")\n",
    "model.eval()\n",
    "\n",
    "tokenizer = BertTokenizer.from_pretrained(\"assets/model\", do_lower_case=True)"
   ]
  },
  {
   "cell_type": "code",
   "execution_count": 3,
   "id": "2a51cbf2-2b9c-4b2f-b425-37a84e07cd01",
   "metadata": {
    "execution": {
     "iopub.execute_input": "2024-12-28T18:46:24.318973Z",
     "iopub.status.busy": "2024-12-28T18:46:24.318530Z",
     "iopub.status.idle": "2024-12-28T18:46:24.322013Z",
     "shell.execute_reply": "2024-12-28T18:46:24.321555Z",
     "shell.execute_reply.started": "2024-12-28T18:46:24.318948Z"
    }
   },
   "outputs": [],
   "source": [
    "def predict_on_sentence(sentence):\n",
    "    \n",
    "    labels_dict_reverse = {\n",
    "        0 : \"None\",\n",
    "        1 : \"Favour\",\n",
    "        2 : \"Hater\",\n",
    "        3 : \"Freaky\"\n",
    "    }\n",
    "    \n",
    "    softmax_out = torch.argmax(torch.nn.functional.softmax(\n",
    "         model(torch.tensor(tokenizer.encode(sentence)).unsqueeze(0)).logits, \n",
    "         dim=1\n",
    "    ))\n",
    "    \n",
    "    return labels_dict_reverse[softmax_out.item()]\n",
    "    "
   ]
  },
  {
   "cell_type": "code",
   "execution_count": 4,
   "id": "aecd61da-9201-4a2b-bea4-3857890ef7df",
   "metadata": {
    "execution": {
     "iopub.execute_input": "2024-12-28T18:50:51.602141Z",
     "iopub.status.busy": "2024-12-28T18:50:51.601705Z",
     "iopub.status.idle": "2024-12-28T18:50:51.786997Z",
     "shell.execute_reply": "2024-12-28T18:50:51.786425Z",
     "shell.execute_reply.started": "2024-12-28T18:50:51.602121Z"
    }
   },
   "outputs": [
    {
     "data": {
      "text/plain": [
       "'Favour'"
      ]
     },
     "execution_count": 4,
     "metadata": {},
     "output_type": "execute_result"
    }
   ],
   "source": [
    "predict_on_sentence(\"can i borrow your charger\")"
   ]
  }
 ],
 "metadata": {
  "kernelspec": {
   "display_name": ".venv",
   "language": "python",
   "name": "python3"
  },
  "language_info": {
   "codemirror_mode": {
    "name": "ipython",
    "version": 3
   },
   "file_extension": ".py",
   "mimetype": "text/x-python",
   "name": "python",
   "nbconvert_exporter": "python",
   "pygments_lexer": "ipython3",
   "version": "3.10.0"
  }
 },
 "nbformat": 4,
 "nbformat_minor": 5
}
