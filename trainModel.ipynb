{
 "cells": [
  {
   "cell_type": "code",
   "execution_count": 1,
   "id": "987ee191-20cc-46c7-a1fa-9868048e02c4",
   "metadata": {
    "execution": {
     "iopub.execute_input": "2024-12-26T21:24:18.415269Z",
     "iopub.status.busy": "2024-12-26T21:24:18.415005Z",
     "iopub.status.idle": "2024-12-26T21:24:20.744214Z",
     "shell.execute_reply": "2024-12-26T21:24:20.743729Z",
     "shell.execute_reply.started": "2024-12-26T21:24:18.415246Z"
    }
   },
   "outputs": [],
   "source": [
    "from torch.utils.data import TensorDataset, DataLoader\n",
    "from torch.optim import Adam\n",
    "from transformers import BertTokenizer, BertForSequenceClassification, logging\n",
    "import pandas as pd\n",
    "import torch"
   ]
  },
  {
   "cell_type": "code",
   "execution_count": 2,
   "id": "b1d0b946-46aa-443d-94e5-a2156a7b7e90",
   "metadata": {
    "execution": {
     "iopub.execute_input": "2024-12-26T21:24:20.745475Z",
     "iopub.status.busy": "2024-12-26T21:24:20.745199Z",
     "iopub.status.idle": "2024-12-26T21:24:20.748658Z",
     "shell.execute_reply": "2024-12-26T21:24:20.747999Z",
     "shell.execute_reply.started": "2024-12-26T21:24:20.745458Z"
    }
   },
   "outputs": [],
   "source": [
    "# Disable logging warning\n",
    "logging.set_verbosity_error()"
   ]
  },
  {
   "cell_type": "code",
   "execution_count": 3,
   "id": "52c37482-d12f-4288-ac09-26842eb55c39",
   "metadata": {
    "execution": {
     "iopub.execute_input": "2024-12-26T21:24:20.749390Z",
     "iopub.status.busy": "2024-12-26T21:24:20.749224Z",
     "iopub.status.idle": "2024-12-26T21:24:20.923668Z",
     "shell.execute_reply": "2024-12-26T21:24:20.923108Z",
     "shell.execute_reply.started": "2024-12-26T21:24:20.749375Z"
    }
   },
   "outputs": [],
   "source": [
    "tokenizer = BertTokenizer.from_pretrained(\"gaunernst/bert-tiny-uncased\", do_lower_case=True)\n",
    "raw_data = pd.read_csv(\"data.csv\")"
   ]
  },
  {
   "cell_type": "code",
   "execution_count": 4,
   "id": "d950978a-6648-451d-84b7-a8d752809a81",
   "metadata": {
    "execution": {
     "iopub.execute_input": "2024-12-26T21:24:20.925347Z",
     "iopub.status.busy": "2024-12-26T21:24:20.924878Z",
     "iopub.status.idle": "2024-12-26T21:24:20.934806Z",
     "shell.execute_reply": "2024-12-26T21:24:20.934284Z",
     "shell.execute_reply.started": "2024-12-26T21:24:20.925347Z"
    }
   },
   "outputs": [
    {
     "data": {
      "text/html": [
       "<div>\n",
       "<style scoped>\n",
       "    .dataframe tbody tr th:only-of-type {\n",
       "        vertical-align: middle;\n",
       "    }\n",
       "\n",
       "    .dataframe tbody tr th {\n",
       "        vertical-align: top;\n",
       "    }\n",
       "\n",
       "    .dataframe thead th {\n",
       "        text-align: right;\n",
       "    }\n",
       "</style>\n",
       "<table border=\"1\" class=\"dataframe\">\n",
       "  <thead>\n",
       "    <tr style=\"text-align: right;\">\n",
       "      <th></th>\n",
       "      <th>Favours</th>\n",
       "      <th>None</th>\n",
       "      <th>Hater</th>\n",
       "      <th>Freaky</th>\n",
       "    </tr>\n",
       "  </thead>\n",
       "  <tbody>\n",
       "    <tr>\n",
       "      <th>0</th>\n",
       "      <td>Hey, I was wondering if you could help me move...</td>\n",
       "      <td>Hey, what’s up?</td>\n",
       "      <td>There’s no cure for your level of stupidity.</td>\n",
       "      <td>Yo this ta actually had the sexiest mustache</td>\n",
       "    </tr>\n",
       "    <tr>\n",
       "      <th>1</th>\n",
       "      <td>Do you have a minute? I need a small favor: co...</td>\n",
       "      <td>Morning! How’s it going?</td>\n",
       "      <td>Watching you try to think is like watching pai...</td>\n",
       "      <td>Double cheeked up**</td>\n",
       "    </tr>\n",
       "    <tr>\n",
       "      <th>2</th>\n",
       "      <td>I hate to ask, but could you pick up my dry cl...</td>\n",
       "      <td>What’s new today?</td>\n",
       "      <td>If ignorance were a crime, you’d be serving a ...</td>\n",
       "      <td>âHeâs cheeked upâ - Moulikð</td>\n",
       "    </tr>\n",
       "    <tr>\n",
       "      <th>3</th>\n",
       "      <td>Quick question: could you help me with my car ...</td>\n",
       "      <td>Just checking in—how are you?</td>\n",
       "      <td>The world would be better off if you stayed qu...</td>\n",
       "      <td>the only thing sexier than him in that pic is me</td>\n",
       "    </tr>\n",
       "    <tr>\n",
       "      <th>4</th>\n",
       "      <td>Would you mind lending me a hand with rearrang...</td>\n",
       "      <td>Have you eaten yet? Pancakes here were a win.</td>\n",
       "      <td>You’re like a software update—completely unnec...</td>\n",
       "      <td>hes got a dumpy</td>\n",
       "    </tr>\n",
       "    <tr>\n",
       "      <th>...</th>\n",
       "      <td>...</td>\n",
       "      <td>...</td>\n",
       "      <td>...</td>\n",
       "      <td>...</td>\n",
       "    </tr>\n",
       "    <tr>\n",
       "      <th>331</th>\n",
       "      <td>NaN</td>\n",
       "      <td>at home</td>\n",
       "      <td>NaN</td>\n",
       "      <td>NaN</td>\n",
       "    </tr>\n",
       "    <tr>\n",
       "      <th>332</th>\n",
       "      <td>NaN</td>\n",
       "      <td>iâd invite you if you were in cali</td>\n",
       "      <td>NaN</td>\n",
       "      <td>NaN</td>\n",
       "    </tr>\n",
       "    <tr>\n",
       "      <th>333</th>\n",
       "      <td>NaN</td>\n",
       "      <td>I think I'm supposed to say things are moving ...</td>\n",
       "      <td>NaN</td>\n",
       "      <td>NaN</td>\n",
       "    </tr>\n",
       "    <tr>\n",
       "      <th>334</th>\n",
       "      <td>NaN</td>\n",
       "      <td>yes</td>\n",
       "      <td>NaN</td>\n",
       "      <td>NaN</td>\n",
       "    </tr>\n",
       "    <tr>\n",
       "      <th>335</th>\n",
       "      <td>NaN</td>\n",
       "      <td>Bro this guy was just straight telling the ta ...</td>\n",
       "      <td>NaN</td>\n",
       "      <td>NaN</td>\n",
       "    </tr>\n",
       "  </tbody>\n",
       "</table>\n",
       "<p>336 rows × 4 columns</p>\n",
       "</div>"
      ],
      "text/plain": [
       "                                               Favours  \\\n",
       "0    Hey, I was wondering if you could help me move...   \n",
       "1    Do you have a minute? I need a small favor: co...   \n",
       "2    I hate to ask, but could you pick up my dry cl...   \n",
       "3    Quick question: could you help me with my car ...   \n",
       "4    Would you mind lending me a hand with rearrang...   \n",
       "..                                                 ...   \n",
       "331                                                NaN   \n",
       "332                                                NaN   \n",
       "333                                                NaN   \n",
       "334                                                NaN   \n",
       "335                                                NaN   \n",
       "\n",
       "                                                  None  \\\n",
       "0                                      Hey, what’s up?   \n",
       "1                             Morning! How’s it going?   \n",
       "2                                    What’s new today?   \n",
       "3                        Just checking in—how are you?   \n",
       "4        Have you eaten yet? Pancakes here were a win.   \n",
       "..                                                 ...   \n",
       "331                                            at home   \n",
       "332               iâd invite you if you were in cali   \n",
       "333  I think I'm supposed to say things are moving ...   \n",
       "334                                                yes   \n",
       "335  Bro this guy was just straight telling the ta ...   \n",
       "\n",
       "                                                 Hater  \\\n",
       "0         There’s no cure for your level of stupidity.   \n",
       "1    Watching you try to think is like watching pai...   \n",
       "2    If ignorance were a crime, you’d be serving a ...   \n",
       "3    The world would be better off if you stayed qu...   \n",
       "4    You’re like a software update—completely unnec...   \n",
       "..                                                 ...   \n",
       "331                                                NaN   \n",
       "332                                                NaN   \n",
       "333                                                NaN   \n",
       "334                                                NaN   \n",
       "335                                                NaN   \n",
       "\n",
       "                                               Freaky  \n",
       "0        Yo this ta actually had the sexiest mustache  \n",
       "1                                 Double cheeked up**  \n",
       "2                âHeâs cheeked upâ - Moulikð  \n",
       "3    the only thing sexier than him in that pic is me  \n",
       "4                                     hes got a dumpy  \n",
       "..                                                ...  \n",
       "331                                               NaN  \n",
       "332                                               NaN  \n",
       "333                                               NaN  \n",
       "334                                               NaN  \n",
       "335                                               NaN  \n",
       "\n",
       "[336 rows x 4 columns]"
      ]
     },
     "execution_count": 4,
     "metadata": {},
     "output_type": "execute_result"
    }
   ],
   "source": [
    "raw_data"
   ]
  },
  {
   "cell_type": "code",
   "execution_count": 5,
   "id": "fd699376-9bad-46d0-8ddc-07da6220fa36",
   "metadata": {
    "execution": {
     "iopub.execute_input": "2024-12-26T21:24:20.935601Z",
     "iopub.status.busy": "2024-12-26T21:24:20.935446Z",
     "iopub.status.idle": "2024-12-26T21:24:21.065902Z",
     "shell.execute_reply": "2024-12-26T21:24:21.065317Z",
     "shell.execute_reply.started": "2024-12-26T21:24:20.935601Z"
    }
   },
   "outputs": [
    {
     "name": "stdout",
     "output_type": "stream",
     "text": [
      "33\n"
     ]
    }
   ],
   "source": [
    "# Getting max encoding length\n",
    "max_length = 0\n",
    "\n",
    "for category in raw_data:\n",
    "    for sentence in raw_data[category]:\n",
    "        \n",
    "        if (str(sentence) != \"nan\"):\n",
    "            \n",
    "            sentence = sentence.replace(\"?\", \"\").replace(\".\", \"\")\n",
    "            \n",
    "            encoding = tokenizer.encode(sentence)\n",
    "\n",
    "            max_length = max(len(encoding), max_length)\n",
    "\n",
    "print(max_length)"
   ]
  },
  {
   "cell_type": "code",
   "execution_count": 6,
   "id": "9dc279d1-0b75-4c5c-8fb0-ed03f76b891e",
   "metadata": {
    "execution": {
     "iopub.execute_input": "2024-12-26T21:24:21.066653Z",
     "iopub.status.busy": "2024-12-26T21:24:21.066503Z",
     "iopub.status.idle": "2024-12-26T21:24:21.226615Z",
     "shell.execute_reply": "2024-12-26T21:24:21.226066Z",
     "shell.execute_reply.started": "2024-12-26T21:24:21.066638Z"
    }
   },
   "outputs": [
    {
     "name": "stdout",
     "output_type": "stream",
     "text": [
      "922 922 922\n"
     ]
    }
   ],
   "source": [
    "# Gathering data\n",
    "data = []\n",
    "labels = []\n",
    "masks = []\n",
    "\n",
    "labels_dict = {\n",
    "    \"None\" : 0,\n",
    "    \"Favours\" : 1,\n",
    "    \"Hater\" : 2,\n",
    "    \"Freaky\" : 3\n",
    "}\n",
    "\n",
    "for category in raw_data:\n",
    "\n",
    "    for sentence in raw_data[category]:\n",
    "        \n",
    "        if (str(sentence) != \"nan\"):\n",
    "            \n",
    "            sentence = sentence.replace(\"?\", \"\").replace(\".\", \"\")\n",
    "            \n",
    "            encoding = tokenizer.encode_plus(\n",
    "                sentence,                     \n",
    "                add_special_tokens = True, \n",
    "                max_length = max_length,\n",
    "                padding='max_length',\n",
    "                return_attention_mask = True, \n",
    "                return_tensors = 'pt',\n",
    "                truncation = True\n",
    "            )\n",
    "            \n",
    "            data.append(encoding[\"input_ids\"])\n",
    "            labels.append(labels_dict[category])\n",
    "            masks.append(encoding[\"attention_mask\"])\n",
    "\n",
    "# Converting to tensors\n",
    "data = torch.cat(data)\n",
    "labels = torch.tensor(labels)\n",
    "masks = torch.cat(masks)\n",
    "        \n",
    "print(len(data), len(labels), len(masks))"
   ]
  },
  {
   "cell_type": "code",
   "execution_count": 7,
   "id": "cfab1709-2acd-42ed-bec5-3b45944c2d5f",
   "metadata": {
    "execution": {
     "iopub.execute_input": "2024-12-26T21:24:21.227411Z",
     "iopub.status.busy": "2024-12-26T21:24:21.227242Z",
     "iopub.status.idle": "2024-12-26T21:24:50.368543Z",
     "shell.execute_reply": "2024-12-26T21:24:50.367843Z",
     "shell.execute_reply.started": "2024-12-26T21:24:21.227353Z"
    }
   },
   "outputs": [
    {
     "name": "stdout",
     "output_type": "stream",
     "text": [
      "Epoch loss: 38.952208042144775 Epoch accuracy: 0.3622933652479617\n",
      "\n",
      "Epoch loss: 38.207788825035095 Epoch accuracy: 0.36857655770813075\n",
      "\n",
      "Epoch loss: 37.277395367622375 Epoch accuracy: 0.3768793477447827\n",
      "\n",
      "Epoch loss: 36.29804742336273 Epoch accuracy: 0.4106141072630713\n",
      "\n",
      "Epoch loss: 35.25243937969208 Epoch accuracy: 0.4867604158875009\n",
      "\n",
      "Epoch loss: 34.105157256126404 Epoch accuracy: 0.5660857206971351\n",
      "\n",
      "Epoch loss: 32.64750123023987 Epoch accuracy: 0.6061410726307128\n",
      "\n",
      "Epoch loss: 31.22864079475403 Epoch accuracy: 0.6248784501458599\n",
      "\n",
      "Epoch loss: 29.87157893180847 Epoch accuracy: 0.6484030219163737\n",
      "\n",
      "Epoch loss: 28.53951507806778 Epoch accuracy: 0.6792953848455382\n",
      "\n",
      "Epoch loss: 27.35513937473297 Epoch accuracy: 0.7129927444087067\n",
      "\n",
      "Epoch loss: 26.09543615579605 Epoch accuracy: 0.749308100830279\n",
      "\n",
      "Epoch loss: 24.932298958301544 Epoch accuracy: 0.7767970678435185\n",
      "\n",
      "Epoch loss: 23.778303742408752 Epoch accuracy: 0.8006582392101129\n",
      "\n",
      "Epoch loss: 22.58139204978943 Epoch accuracy: 0.8220884134939038\n",
      "\n",
      "Epoch loss: 21.42119926214218 Epoch accuracy: 0.8424713890343332\n",
      "\n",
      "Epoch loss: 20.296889781951904 Epoch accuracy: 0.8594135687037175\n",
      "\n",
      "Epoch loss: 19.128928065299988 Epoch accuracy: 0.8777021467574239\n",
      "\n",
      "Epoch loss: 18.059118628501892 Epoch accuracy: 0.8927743286708056\n",
      "\n",
      "Epoch loss: 17.015934765338898 Epoch accuracy: 0.9077717106739472\n",
      "\n",
      "Epoch loss: 16.006324648857117 Epoch accuracy: 0.9197022963572443\n",
      "\n",
      "Epoch loss: 15.069001138210297 Epoch accuracy: 0.9320442815468621\n",
      "\n",
      "Epoch loss: 14.080842465162277 Epoch accuracy: 0.9437130675443189\n",
      "\n",
      "Epoch loss: 13.21452510356903 Epoch accuracy: 0.9532500560999326\n",
      "\n",
      "Epoch loss: 12.357752323150635 Epoch accuracy: 0.961852045777545\n",
      "\n",
      "Epoch loss: 11.559284150600433 Epoch accuracy: 0.9692572368913157\n",
      "\n",
      "Epoch loss: 10.853563100099564 Epoch accuracy: 0.9746054304734835\n",
      "\n",
      "Epoch loss: 10.135615020990372 Epoch accuracy: 0.9795796245044506\n",
      "\n",
      "Epoch loss: 9.549547016620636 Epoch accuracy: 0.9835440197471763\n",
      "\n",
      "Epoch loss: 8.926900029182434 Epoch accuracy: 0.9876206148552622\n",
      "\n",
      "Epoch loss: 8.412822276353836 Epoch accuracy: 0.9885930136883836\n",
      "\n",
      "Epoch loss: 7.947980850934982 Epoch accuracy: 0.9901264118483057\n",
      "\n",
      "Epoch loss: 7.4813892394304276 Epoch accuracy: 0.9928566085720697\n",
      "\n",
      "Epoch loss: 7.078887954354286 Epoch accuracy: 0.9934924078091106\n",
      "\n",
      "Epoch loss: 6.712209686636925 Epoch accuracy: 0.9945022065973521\n",
      "\n"
     ]
    }
   ],
   "source": [
    "# Creating dataloader\n",
    "dataset = TensorDataset(data, labels, masks)\n",
    "dataloader = DataLoader(dataset, batch_size=32, shuffle=True)\n",
    "\n",
    "# Initializing model\n",
    "model = BertForSequenceClassification.from_pretrained(\n",
    "    \"gaunernst/bert-tiny-uncased\", \n",
    "    num_labels = 4,\n",
    "    output_attentions = False,\n",
    "    output_hidden_states = False,\n",
    ")\n",
    "\n",
    "model.cuda()\n",
    "model.train()\n",
    "\n",
    "# Initializing optimizer\n",
    "optimizer = Adam(model.parameters(),\n",
    "  lr = 1e-5,\n",
    "  eps = 1e-8\n",
    ")\n",
    "\n",
    "# Train for 35 epochs\n",
    "for i in range(35):\n",
    "    \n",
    "    c_loss = 0\n",
    "    correct = 0\n",
    "    total = 0\n",
    "    \n",
    "    correct_val = 0\n",
    "    total_val = 0\n",
    "    \n",
    "    flag = False\n",
    "    \n",
    "    for batch in dataloader:\n",
    "        \n",
    "        data_batch, labels_batch, masks_batch = batch\n",
    "\n",
    "        # Moving batch tensors to GPU\n",
    "        data_batch = data.to(\"cuda\")\n",
    "        labels_batch = labels.to(\"cuda\")\n",
    "        masks_batch = masks.to(\"cuda\")\n",
    "\n",
    "        model.zero_grad() \n",
    "\n",
    "        # Getting model output\n",
    "        x = model(data_batch, token_type_ids=None, attention_mask=masks_batch, labels=labels_batch)\n",
    "\n",
    "        # Getting batch loss & predictions\n",
    "        loss_batch = x.loss\n",
    "        pred_batch = torch.argmax(torch.nn.functional.softmax(x.logits, dim=1), dim=1)\n",
    "\n",
    "        # Calculating accuracy\n",
    "        correct += (pred_batch == labels_batch).sum().item()\n",
    "        total += len(data_batch)\n",
    "\n",
    "        # Calculating loss\n",
    "        c_loss += x.loss.item()\n",
    "\n",
    "        # Optimizing\n",
    "        loss_batch.backward()\n",
    "        optimizer.step()\n",
    "        \n",
    "    print(\"Epoch loss:\", c_loss, \"Epoch accuracy:\", correct / total)\n",
    "    print()\n"
   ]
  },
  {
   "cell_type": "code",
   "execution_count": 8,
   "id": "ece205a5-881e-40f3-ba60-593e59bf46da",
   "metadata": {
    "execution": {
     "iopub.execute_input": "2024-12-26T21:24:50.371097Z",
     "iopub.status.busy": "2024-12-26T21:24:50.370880Z",
     "iopub.status.idle": "2024-12-26T21:24:50.425988Z",
     "shell.execute_reply": "2024-12-26T21:24:50.425226Z",
     "shell.execute_reply.started": "2024-12-26T21:24:50.371079Z"
    }
   },
   "outputs": [
    {
     "data": {
      "text/plain": [
       "('./model/tokenizer_config.json',\n",
       " './model/special_tokens_map.json',\n",
       " './model/vocab.txt',\n",
       " './model/added_tokens.json')"
      ]
     },
     "execution_count": 8,
     "metadata": {},
     "output_type": "execute_result"
    }
   ],
   "source": [
    "model.save_pretrained(\"./model\")\n",
    "tokenizer.save_pretrained(\"./model\")"
   ]
  },
  {
   "cell_type": "code",
   "execution_count": 9,
   "id": "da83b538-dcd1-44c0-ac03-6cc89caa1daf",
   "metadata": {
    "execution": {
     "iopub.execute_input": "2024-12-26T21:24:50.427423Z",
     "iopub.status.busy": "2024-12-26T21:24:50.426935Z",
     "iopub.status.idle": "2024-12-26T21:24:50.454669Z",
     "shell.execute_reply": "2024-12-26T21:24:50.453994Z",
     "shell.execute_reply.started": "2024-12-26T21:24:50.427399Z"
    }
   },
   "outputs": [],
   "source": [
    "model.to(\"cpu\")\n",
    "model.eval()\n",
    "\n",
    "def predict_on_sentence(sentence):\n",
    "    \n",
    "    labels_dict_reverse = {\n",
    "        0 : \"None\",\n",
    "        1 : \"Favour\",\n",
    "        2 : \"Hater\",\n",
    "        3 : \"Freaky\"\n",
    "    }\n",
    "    \n",
    "    softmax_out = torch.argmax(torch.nn.functional.softmax(\n",
    "         model(torch.tensor(tokenizer.encode(sentence)).unsqueeze(0)).logits, \n",
    "         dim=1\n",
    "    ))\n",
    "    \n",
    "    return labels_dict_reverse[softmax_out.item()]\n",
    "    "
   ]
  },
  {
   "cell_type": "code",
   "execution_count": 15,
   "id": "d6919d10-ef8d-42c2-a19c-6b69531caa40",
   "metadata": {
    "execution": {
     "iopub.execute_input": "2024-12-26T21:26:39.945080Z",
     "iopub.status.busy": "2024-12-26T21:26:39.944186Z",
     "iopub.status.idle": "2024-12-26T21:26:39.961670Z",
     "shell.execute_reply": "2024-12-26T21:26:39.960566Z",
     "shell.execute_reply.started": "2024-12-26T21:26:39.945080Z"
    }
   },
   "outputs": [
    {
     "name": "stdout",
     "output_type": "stream",
     "text": [
      "Favour\n",
      "Hater\n",
      "Freaky\n",
      "None\n"
     ]
    }
   ],
   "source": [
    "print(predict_on_sentence(\"can i borrow your charger\"))\n",
    "print(predict_on_sentence(\"bro fuck you\"))\n",
    "print(predict_on_sentence(\"imma touch you\"))\n",
    "print(predict_on_sentence(\"I'm a sigma\"))"
   ]
  },
  {
   "cell_type": "code",
   "execution_count": 11,
   "id": "51faf222-b0d5-4b41-aacc-9d39e24bb565",
   "metadata": {
    "execution": {
     "iopub.execute_input": "2024-12-26T21:24:50.478323Z",
     "iopub.status.busy": "2024-12-26T21:24:50.477668Z",
     "iopub.status.idle": "2024-12-26T21:24:50.843686Z",
     "shell.execute_reply": "2024-12-26T21:24:50.843289Z",
     "shell.execute_reply.started": "2024-12-26T21:24:50.478317Z"
    }
   },
   "outputs": [
    {
     "name": "stdout",
     "output_type": "stream",
     "text": [
      "0.25215673446655273\n"
     ]
    }
   ],
   "source": [
    "import time\n",
    "\n",
    "# Creating test batch\n",
    "test = []\n",
    "\n",
    "for i in range(1000):\n",
    "    encoding = tokenizer.encode_plus(\n",
    "        \"you are so stupid\",                     \n",
    "        add_special_tokens = True, \n",
    "        max_length = max_length,\n",
    "        padding='max_length',\n",
    "        return_attention_mask = True, \n",
    "        return_tensors = 'pt',\n",
    "        truncation = True\n",
    "    )\n",
    "    \n",
    "    test.append(encoding[\"input_ids\"])\n",
    "    \n",
    "test = torch.cat(test)\n",
    "\n",
    "# Timing computation\n",
    "start = time.time()\n",
    "\n",
    "model(test)\n",
    "\n",
    "print(time.time() - start)"
   ]
  }
 ],
 "metadata": {
  "kernelspec": {
   "display_name": "Python 3 (ipykernel)",
   "language": "python",
   "name": "python3"
  },
  "language_info": {
   "codemirror_mode": {
    "name": "ipython",
    "version": 3
   },
   "file_extension": ".py",
   "mimetype": "text/x-python",
   "name": "python",
   "nbconvert_exporter": "python",
   "pygments_lexer": "ipython3",
   "version": "3.11.7"
  }
 },
 "nbformat": 4,
 "nbformat_minor": 5
}
